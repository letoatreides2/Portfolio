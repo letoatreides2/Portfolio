{
 "cells": [
  {
   "cell_type": "markdown",
   "id": "2644a8ad",
   "metadata": {},
   "source": [
    "# Классификация отзывов пользователей по токсичности"
   ]
  },
  {
   "cell_type": "markdown",
   "id": "e0bd9e84",
   "metadata": {},
   "source": [
    "Интернет-магазин «Викишоп» запускает новый сервис. Теперь пользователи могут редактировать и дополнять описания товаров, как в вики-сообществах. Магазину нужен инструмент, который будет искать токсичные комментарии и отправлять их на модерацию.\n",
    "\n",
    "**Цель проетка** обучить различные модели, классифицирующие комментарии на позитивные и негативные, и выбрать среди них лучшую. Для этого нам предоставлен набор данных с разметкой токсичности комментариев. Критерием хорошей работы модели является значение *F1-меры* не ниже **0.75**.\n",
    "\n",
    "Проект будет проходить в нексколько **этапов**:\n",
    "\n",
    "<p><b>1</b> Обзор и подготовка данных\n",
    "<p><b>2</b> Лемматизация текстов\n",
    "<p><b>3</b> Построение и обучение моделей\n",
    "<p>&nbsp;&nbsp;&nbsp;&nbsp; <b>3.1</b> Разделение на выборки\n",
    "<p>&nbsp;&nbsp;&nbsp;&nbsp; <b>3.2</b> Создание пайпланов\n",
    "<p>&nbsp;&nbsp;&nbsp;&nbsp; <b>3.3</b> <i>Логистическая регрессия</i>\n",
    "<br>&nbsp;&nbsp;&nbsp;&nbsp; <b>3.4</b> <i>Машина опопрных векторов</i>\n",
    "<br>&nbsp;&nbsp;&nbsp;&nbsp; <b>3.5</b> <i>Градиентный бустинг</i>\n",
    "<p><b>4</b> Выбор и тестирование лучшей модели\n",
    "<p>&nbsp;&nbsp;&nbsp;&nbsp; <b>4.1</b> Сравнение результатов обучения\n",
    "<p>&nbsp;&nbsp;&nbsp;&nbsp; <b>4.2</b> Тестирование выбранной модели\n",
    "<p><b>5</b> Выводы"
   ]
  },
  {
   "cell_type": "markdown",
   "id": "e7f283d0",
   "metadata": {},
   "source": [
    "## Обзор и подготовка данных"
   ]
  },
  {
   "cell_type": "code",
   "execution_count": 1,
   "id": "900e6646",
   "metadata": {},
   "outputs": [
    {
     "name": "stderr",
     "output_type": "stream",
     "text": [
      "C:\\Users\\Asus\\anaconda3\\lib\\site-packages\\cupy\\_environment.py:213: UserWarning: CUDA path could not be detected. Set CUDA_PATH environment variable if CuPy fails to load.\n",
      "  warnings.warn(\n",
      "C:\\Users\\Asus\\anaconda3\\lib\\site-packages\\cupy\\_environment.py:213: UserWarning: CUDA path could not be detected. Set CUDA_PATH environment variable if CuPy fails to load.\n",
      "  warnings.warn(\n",
      "C:\\Users\\Asus\\anaconda3\\lib\\site-packages\\cupy\\_environment.py:213: UserWarning: CUDA path could not be detected. Set CUDA_PATH environment variable if CuPy fails to load.\n",
      "  warnings.warn(\n",
      "C:\\Users\\Asus\\anaconda3\\lib\\site-packages\\cupy\\_environment.py:213: UserWarning: CUDA path could not be detected. Set CUDA_PATH environment variable if CuPy fails to load.\n",
      "  warnings.warn(\n"
     ]
    }
   ],
   "source": [
    "# импорт библиотек\n",
    "import pandas as pd\n",
    "import numpy as np\n",
    "\n",
    "import matplotlib.pyplot as plt\n",
    "import seaborn as sns\n",
    "\n",
    "import spacy\n",
    "import re\n",
    "import nltk\n",
    "from nltk.corpus import stopwords as nltk_stopwords\n",
    "\n",
    "from tqdm import notebook\n",
    "\n",
    "from sklearn.model_selection import train_test_split\n",
    "from sklearn.pipeline import make_pipeline\n",
    "from sklearn.feature_extraction.text import TfidfVectorizer\n",
    "from sklearn.model_selection import GridSearchCV\n",
    "from sklearn.linear_model import LogisticRegression\n",
    "from sklearn.svm import LinearSVC\n",
    "from sklearn.metrics import f1_score\n",
    "from sklearn.metrics import confusion_matrix\n",
    "\n",
    "from catboost import CatBoostClassifier"
   ]
  },
  {
   "cell_type": "code",
   "execution_count": 2,
   "id": "0021b687",
   "metadata": {},
   "outputs": [],
   "source": [
    "# чтение файла с данными и его сохранение в таблице\n",
    "try:\n",
    "    df = pd.read_csv('toxic_comments.csv', on_bad_lines='skip')\n",
    "except:\n",
    "    df = pd.read_csv('/datasets/toxic_comments.csv', on_bad_lines='skip')"
   ]
  },
  {
   "cell_type": "code",
   "execution_count": 3,
   "id": "0bda37c2",
   "metadata": {},
   "outputs": [
    {
     "data": {
      "text/html": [
       "<div>\n",
       "<style scoped>\n",
       "    .dataframe tbody tr th:only-of-type {\n",
       "        vertical-align: middle;\n",
       "    }\n",
       "\n",
       "    .dataframe tbody tr th {\n",
       "        vertical-align: top;\n",
       "    }\n",
       "\n",
       "    .dataframe thead th {\n",
       "        text-align: right;\n",
       "    }\n",
       "</style>\n",
       "<table border=\"1\" class=\"dataframe\">\n",
       "  <thead>\n",
       "    <tr style=\"text-align: right;\">\n",
       "      <th></th>\n",
       "      <th>text</th>\n",
       "      <th>toxic</th>\n",
       "    </tr>\n",
       "  </thead>\n",
       "  <tbody>\n",
       "    <tr>\n",
       "      <th>0</th>\n",
       "      <td>Explanation\\nWhy the edits made under my usern...</td>\n",
       "      <td>0</td>\n",
       "    </tr>\n",
       "    <tr>\n",
       "      <th>1</th>\n",
       "      <td>D'aww! He matches this background colour I'm s...</td>\n",
       "      <td>0</td>\n",
       "    </tr>\n",
       "    <tr>\n",
       "      <th>2</th>\n",
       "      <td>Hey man, I'm really not trying to edit war. It...</td>\n",
       "      <td>0</td>\n",
       "    </tr>\n",
       "    <tr>\n",
       "      <th>3</th>\n",
       "      <td>\"\\nMore\\nI can't make any real suggestions on ...</td>\n",
       "      <td>0</td>\n",
       "    </tr>\n",
       "    <tr>\n",
       "      <th>4</th>\n",
       "      <td>You, sir, are my hero. Any chance you remember...</td>\n",
       "      <td>0</td>\n",
       "    </tr>\n",
       "  </tbody>\n",
       "</table>\n",
       "</div>"
      ],
      "text/plain": [
       "                                                text toxic\n",
       "0  Explanation\\nWhy the edits made under my usern...     0\n",
       "1  D'aww! He matches this background colour I'm s...     0\n",
       "2  Hey man, I'm really not trying to edit war. It...     0\n",
       "3  \"\\nMore\\nI can't make any real suggestions on ...     0\n",
       "4  You, sir, are my hero. Any chance you remember...     0"
      ]
     },
     "execution_count": 3,
     "metadata": {},
     "output_type": "execute_result"
    }
   ],
   "source": [
    "# вывод первых пяти строк\n",
    "df.head()"
   ]
  },
  {
   "cell_type": "code",
   "execution_count": 4,
   "id": "9b4a1d4c",
   "metadata": {},
   "outputs": [
    {
     "name": "stdout",
     "output_type": "stream",
     "text": [
      "<class 'pandas.core.frame.DataFrame'>\n",
      "RangeIndex: 159451 entries, 0 to 159450\n",
      "Data columns (total 2 columns):\n",
      " #   Column  Non-Null Count   Dtype \n",
      "---  ------  --------------   ----- \n",
      " 0   text    159451 non-null  object\n",
      " 1   toxic   159320 non-null  object\n",
      "dtypes: object(2)\n",
      "memory usage: 2.4+ MB\n"
     ]
    }
   ],
   "source": [
    "# вывод общей информации\n",
    "df.info()"
   ]
  },
  {
   "cell_type": "markdown",
   "id": "d5140e7c",
   "metadata": {},
   "source": [
    "Из первых пяти строк таблицы мы видим, что комментарии написаны на английском языке. Из общей информации можно заметить, что в целевом признаке `toxic` присутствуют пропуски, а данные записаны в строковом представлении. Посмотрим на уникальные значения данного признака."
   ]
  },
  {
   "cell_type": "code",
   "execution_count": 5,
   "id": "0213bcc3",
   "metadata": {
    "scrolled": false
   },
   "outputs": [
    {
     "data": {
      "text/plain": [
       "array(['0', '1', nan, ' removed also by ALR. Why.',\n",
       "       ' and possibly edit the article. Thank you for your time.99.41.251.5 (talk)”',\n",
       "       ' but you judge.', ' and on pages like votes for deletion',\n",
       "       ' Sime Darby is poised with the potential for more in the future\"\"\"\". This statement is also somewhat judgemental.',\n",
       "       ' anything yet?',\n",
       "       \" Wikipedia's most-viewed board has declared a specific living person has terminal cancer.\",\n",
       "       ',0\\nquestion', ' re:Open access publishing',\n",
       "       ',0\\nSockpuppet Investigation of User:Anyones Else For Nutley ',\n",
       "       ' you are absolutely correct.  Keep up the good work.  ',\n",
       "       \" I suspect there's a great deal of history that I'm woefully unaware of.  Thank you. —   \\xa0?\\xa0 \",\n",
       "       ' though a minority opinion.\"\"\"\" - Enough evidence to include parent systems in Infobox.',\n",
       "       ' you will be blocked from editing.   (T) ',\n",
       "       ' Time Magazine Article & The New Statesmen. ',\n",
       "       ' in that it infers that Noel Stanton was the Baptist pastor rather than being within the Baptist laity at Bugbrooke at the time. ',\n",
       "       ' 2012. ', ' aren´t you? ', ' inflation\"\"\"\"',\n",
       "       ' Here are a few excerpts of Dr BR Ambedkar(who was also an anthropologist and a respected historian).: ',\n",
       "       ' but its a MUST-READ regarding the topic. (talk . contr . mail) ',\n",
       "       ' ', ' there is a week pause before the 2-hour Finale',\n",
       "       \" the Sozin's Comet Book (which releases May 20th) will be on-time with the tv \",\n",
       "       ' I do play Go (though not so much for a while)',\n",
       "       ' \"\"\"\"Bosnia and Herzegovina [...] will try to keep a neutral position due to a complex domestic political scene and numerous unsolved political and economic issues in the country.\"\"\"\"',\n",
       "       ',0\\n\"',\n",
       "       \" you are described as a USMC reserve corporal. Now you say you are not a marine. Which is it? Surely you should know whether or not you're a marine or not.  \"],\n",
       "      dtype=object)"
      ]
     },
     "execution_count": 5,
     "metadata": {},
     "output_type": "execute_result"
    }
   ],
   "source": [
    "# вывод уникальных значений целевого признака\n",
    "df['toxic'].unique()"
   ]
  },
  {
   "cell_type": "markdown",
   "id": "1b465369",
   "metadata": {},
   "source": [
    "Мы видим, что помимо 0, 1 и `np.nan`, в целевой признак также попала небольшая часть комментариев. Удалим проблемные строки. Приведем значения целевого признака к целочисленному типу данных `int`. Посчитаем долю потерянных данных."
   ]
  },
  {
   "cell_type": "code",
   "execution_count": 6,
   "id": "72d13f47",
   "metadata": {},
   "outputs": [],
   "source": [
    "# удаление проблемных строк\n",
    "new_df = df[df['toxic'].isin(['0', '1'])]"
   ]
  },
  {
   "cell_type": "code",
   "execution_count": 7,
   "id": "f63c5b1d",
   "metadata": {},
   "outputs": [
    {
     "name": "stderr",
     "output_type": "stream",
     "text": [
      "C:\\Users\\Asus\\AppData\\Local\\Temp\\ipykernel_17308\\1294461992.py:2: SettingWithCopyWarning: \n",
      "A value is trying to be set on a copy of a slice from a DataFrame.\n",
      "Try using .loc[row_indexer,col_indexer] = value instead\n",
      "\n",
      "See the caveats in the documentation: https://pandas.pydata.org/pandas-docs/stable/user_guide/indexing.html#returning-a-view-versus-a-copy\n",
      "  new_df.loc[:, 'toxic'] = new_df.loc[:, 'toxic'].astype('int')\n"
     ]
    }
   ],
   "source": [
    "# приведение значений целевого признака к типу данных `int`\n",
    "new_df.loc[:, 'toxic'] = new_df.loc[:, 'toxic'].astype('int')"
   ]
  },
  {
   "cell_type": "code",
   "execution_count": 8,
   "id": "7afbce2c",
   "metadata": {},
   "outputs": [
    {
     "name": "stdout",
     "output_type": "stream",
     "text": [
      "0.1%\n"
     ]
    }
   ],
   "source": [
    "# вывод процента потерянных данных\n",
    "print('{:.1%}'.format((df.shape[0] - new_df.shape[0]) / df.shape[0] ))"
   ]
  },
  {
   "cell_type": "markdown",
   "id": "4e6db253",
   "metadata": {},
   "source": [
    "Доля потерянных данных составила всего **0.1%**. Рассмотрим распределение *целевого признака*."
   ]
  },
  {
   "cell_type": "code",
   "execution_count": 9,
   "id": "d8d1ae11",
   "metadata": {},
   "outputs": [
    {
     "data": {
      "text/plain": [
       "[<matplotlib.axis.XTick at 0x278184bcbe0>,\n",
       " <matplotlib.axis.XTick at 0x278184bcbb0>]"
      ]
     },
     "execution_count": 9,
     "metadata": {},
     "output_type": "execute_result"
    },
    {
     "data": {
      "image/png": "[encoded data removed]",
      "text/plain": [
       "<Figure size 360x360 with 1 Axes>"
      ]
     },
     "metadata": {
      "needs_background": "light"
     },
     "output_type": "display_data"
    }
   ],
   "source": [
    "# вывод распределения целевого признака\n",
    "fig, ax = plt.subplots(figsize=(5, 5))\n",
    "sns.histplot(data=new_df, x='toxic', ax=ax, stat='percent', shrink=10)\n",
    "ax.set_title('Распределение целевого признака', fontsize='x-large', y=1.05)\n",
    "ax.set_xticks([0, 1])"
   ]
  },
  {
   "cell_type": "markdown",
   "id": "732e7797",
   "metadata": {},
   "source": [
    "Как оказалось, в целевом признаке наблюдатеся сильный дисбаланс. Соотношение между количеством токсичных и не токсичных комментариев — **1:9**. Учтем это при обучении моделей."
   ]
  },
  {
   "cell_type": "markdown",
   "id": "6bf87820",
   "metadata": {},
   "source": [
    "## Лемматизация текстов"
   ]
  },
  {
   "cell_type": "markdown",
   "id": "6406dbfc",
   "metadata": {},
   "source": [
    "Лемматизируем исходные тексты. Воспользуемся возможностями библиотеки `spacy`. Отметим, что в отличие от `nltk`, `spacy` в несколько раз быстрее распознает часть речи слова. Создадим объект, загрузив пакет `en_core_web_sm` из данной библиотеки."
   ]
  },
  {
   "cell_type": "code",
   "execution_count": 10,
   "id": "865e8036",
   "metadata": {},
   "outputs": [
    {
     "name": "stderr",
     "output_type": "stream",
     "text": [
      "C:\\Users\\Asus\\anaconda3\\lib\\site-packages\\spacy\\util.py:865: UserWarning: [W095] Model 'en_core_web_sm' (3.3.0) was trained with spaCy v3.3 and may not be 100% compatible with the current version (3.4.1). If you see errors or degraded performance, download a newer compatible model or retrain your custom model with the current spaCy version. For more details and available updates, run: python -m spacy validate\n",
      "  warnings.warn(warn_msg)\n"
     ]
    }
   ],
   "source": [
    "# инициализация объекта класса `en_core_web_sm`\n",
    "spacy = spacy.load('en_core_web_sm')"
   ]
  },
  {
   "cell_type": "markdown",
   "id": "a8937c23",
   "metadata": {},
   "source": [
    "Напишем функцию, которая будет лемматизировать исходные тексты."
   ]
  },
  {
   "cell_type": "code",
   "execution_count": 11,
   "id": "66fb014d",
   "metadata": {},
   "outputs": [],
   "source": [
    "# создание функции, лемматизирующей тексты\n",
    "def lemmatize_text(text):\n",
    "    return ' '.join([token.lemma_ for token in spacy(text)])"
   ]
  },
  {
   "cell_type": "markdown",
   "id": "f9bab66e",
   "metadata": {},
   "source": [
    "Лемматизация, учитывающая часть речи слова, занимает достаточно долгое время. Чтобы визуализировать процесс выполнения кода воспользуемся функцией `notebook.tqdm` из библиотеки `tqdm`. Чтобы избежать проблем, связанных с нехваткой оперативной памяти, разобьем данные на 1000 батчей."
   ]
  },
  {
   "cell_type": "code",
   "execution_count": 12,
   "id": "259099a7",
   "metadata": {},
   "outputs": [
    {
     "data": {
      "application/vnd.jupyter.widget-view+json": {
       "model_id": "f2b89df2ca25478dbc915f80ff712e80",
       "version_major": 2,
       "version_minor": 0
      },
      "text/plain": [
       "  0%|          | 0/159 [00:00<?, ?it/s]"
      ]
     },
     "metadata": {},
     "output_type": "display_data"
    },
    {
     "name": "stderr",
     "output_type": "stream",
     "text": [
      "<timed exec>:6: SettingWithCopyWarning: \n",
      "A value is trying to be set on a copy of a slice from a DataFrame.\n",
      "Try using .loc[row_indexer,col_indexer] = value instead\n",
      "\n",
      "See the caveats in the documentation: https://pandas.pydata.org/pandas-docs/stable/user_guide/indexing.html#returning-a-view-versus-a-copy\n"
     ]
    },
    {
     "name": "stdout",
     "output_type": "stream",
     "text": [
      "CPU times: total: 25min 9s\n",
      "Wall time: 25min 23s\n"
     ]
    }
   ],
   "source": [
    "%%time\n",
    "# лемматизация текстов\n",
    "batch_size = 1000\n",
    "for i in notebook.tqdm(range(new_df.shape[0] // batch_size)):\n",
    "    if i != new_df.shape[0] // batch_size - 1:\n",
    "        batch = new_df.loc[i*batch_size:(i+1)*batch_size, 'text']\n",
    "        new_df.loc[i*batch_size:(i + 1)*batch_size, 'lemmatized_text'] = batch.apply(lemmatize_text)\n",
    "    else:\n",
    "        batch = new_df.loc[i*batch_size::, 'text']\n",
    "        new_df.loc[i*batch_size::, 'lemmatized_text'] = batch.apply(lemmatize_text)\n",
    "new_df = new_df.reindex(columns=['text', 'lemmatized_text', 'toxic'])"
   ]
  },
  {
   "cell_type": "markdown",
   "id": "9ef7f516",
   "metadata": {},
   "source": [
    "Приведем все комментарии к нижнему регистру и удалим из них лишние символы, оставив только латинские буквы. "
   ]
  },
  {
   "cell_type": "code",
   "execution_count": 13,
   "id": "ca358f69",
   "metadata": {},
   "outputs": [],
   "source": [
    "# удаление лишних символов из лемматизированных текстов\n",
    "new_df['lemmatized_text'] = new_df['lemmatized_text'].apply(lambda word: re.sub(r'[^a-zA-Z]', ' ', word.lower()))"
   ]
  },
  {
   "cell_type": "markdown",
   "id": "1ef2ee04",
   "metadata": {},
   "source": [
    "Снова выведем первые 5 строк получившегося датасета."
   ]
  },
  {
   "cell_type": "code",
   "execution_count": 14,
   "id": "31044fa2",
   "metadata": {},
   "outputs": [
    {
     "data": {
      "text/html": [
       "<div>\n",
       "<style scoped>\n",
       "    .dataframe tbody tr th:only-of-type {\n",
       "        vertical-align: middle;\n",
       "    }\n",
       "\n",
       "    .dataframe tbody tr th {\n",
       "        vertical-align: top;\n",
       "    }\n",
       "\n",
       "    .dataframe thead th {\n",
       "        text-align: right;\n",
       "    }\n",
       "</style>\n",
       "<table border=\"1\" class=\"dataframe\">\n",
       "  <thead>\n",
       "    <tr style=\"text-align: right;\">\n",
       "      <th></th>\n",
       "      <th>text</th>\n",
       "      <th>lemmatized_text</th>\n",
       "      <th>toxic</th>\n",
       "    </tr>\n",
       "  </thead>\n",
       "  <tbody>\n",
       "    <tr>\n",
       "      <th>0</th>\n",
       "      <td>Explanation\\nWhy the edits made under my usern...</td>\n",
       "      <td>explanation   why the edit make under my usern...</td>\n",
       "      <td>0</td>\n",
       "    </tr>\n",
       "    <tr>\n",
       "      <th>1</th>\n",
       "      <td>D'aww! He matches this background colour I'm s...</td>\n",
       "      <td>d aww   he match this background colour i be s...</td>\n",
       "      <td>0</td>\n",
       "    </tr>\n",
       "    <tr>\n",
       "      <th>2</th>\n",
       "      <td>Hey man, I'm really not trying to edit war. It...</td>\n",
       "      <td>hey man   i be really not try to edit war   it...</td>\n",
       "      <td>0</td>\n",
       "    </tr>\n",
       "    <tr>\n",
       "      <th>3</th>\n",
       "      <td>\"\\nMore\\nI can't make any real suggestions on ...</td>\n",
       "      <td>more   i can not make any real suggestion ...</td>\n",
       "      <td>0</td>\n",
       "    </tr>\n",
       "    <tr>\n",
       "      <th>4</th>\n",
       "      <td>You, sir, are my hero. Any chance you remember...</td>\n",
       "      <td>you   sir   be my hero   any chance you rememb...</td>\n",
       "      <td>0</td>\n",
       "    </tr>\n",
       "  </tbody>\n",
       "</table>\n",
       "</div>"
      ],
      "text/plain": [
       "                                                text  \\\n",
       "0  Explanation\\nWhy the edits made under my usern...   \n",
       "1  D'aww! He matches this background colour I'm s...   \n",
       "2  Hey man, I'm really not trying to edit war. It...   \n",
       "3  \"\\nMore\\nI can't make any real suggestions on ...   \n",
       "4  You, sir, are my hero. Any chance you remember...   \n",
       "\n",
       "                                     lemmatized_text  toxic  \n",
       "0  explanation   why the edit make under my usern...      0  \n",
       "1  d aww   he match this background colour i be s...      0  \n",
       "2  hey man   i be really not try to edit war   it...      0  \n",
       "3      more   i can not make any real suggestion ...      0  \n",
       "4  you   sir   be my hero   any chance you rememb...      0  "
      ]
     },
     "execution_count": 14,
     "metadata": {},
     "output_type": "execute_result"
    }
   ],
   "source": [
    "# вывод первых 5 строки\n",
    "new_df.head(5)"
   ]
  },
  {
   "cell_type": "markdown",
   "id": "7e3a0db8",
   "metadata": {},
   "source": [
    "Как мы видим, работа с текстом была проведена успешно. Текст лемматизирован, все лишние символы заменены на пробелы."
   ]
  },
  {
   "cell_type": "markdown",
   "id": "42bb9b2d",
   "metadata": {},
   "source": [
    "## Построение и обучение моделей"
   ]
  },
  {
   "cell_type": "markdown",
   "id": "d59750a7",
   "metadata": {},
   "source": [
    "Мы обучим два типа линейных моделей:\n",
    "\n",
    "* модель *логистической регрессии*, основанную на вероятностном подходе \n",
    "* *машину опорных векторов*, основанную на геометрическом подходе\n",
    "\n",
    "Попробуем также ансамбль *решающих деревьев*, обученных методом *градиентного бустинга*. "
   ]
  },
  {
   "cell_type": "markdown",
   "id": "fbedbbe9",
   "metadata": {},
   "source": [
    "### Разделение на выборки"
   ]
  },
  {
   "cell_type": "markdown",
   "id": "4cf9cb7a",
   "metadata": {},
   "source": [
    "Раздедим данные на *обучающую* и *тестовую выборки* в соотношении **9:1**. Учтем, отмеченный ранее дисбаланс классов, стратифицировав данные по столбцу `toxic`."
   ]
  },
  {
   "cell_type": "code",
   "execution_count": 15,
   "id": "3dd7ffd0",
   "metadata": {},
   "outputs": [],
   "source": [
    "# разделение данных на выборки\n",
    "train_features, test_features, train_target, test_target = train_test_split(new_df['lemmatized_text'], new_df['toxic'],\n",
    "                                                                            test_size=0.1, random_state=42, stratify=new_df['toxic'])"
   ]
  },
  {
   "cell_type": "markdown",
   "id": "1fa0d8e8",
   "metadata": {},
   "source": [
    "### Создание пайплайнов"
   ]
  },
  {
   "cell_type": "markdown",
   "id": "afc41966",
   "metadata": {},
   "source": [
    "Перед тем, как приступить к обучению моделей, приведем ранее лемматизированный текст к числовому виду с помощью меры *TF-IDF*. Для этого воспользуемся классом `TfidfVectorizer` библиотеки `sklearn`. Чтобы не возникло проблем с утечкой информации из *обучающей выборки* в *тестовую* при кросс-валидационном поиске лучшей модели, воспользуемся пайплайнами. Для удаления стоп-слов воспользуемся пакетом `nltk`."
   ]
  },
  {
   "cell_type": "code",
   "execution_count": 16,
   "id": "755f2b6c",
   "metadata": {},
   "outputs": [
    {
     "name": "stderr",
     "output_type": "stream",
     "text": [
      "[nltk_data] Downloading package stopwords to\n",
      "[nltk_data]     C:\\Users\\Asus\\AppData\\Roaming\\nltk_data...\n",
      "[nltk_data]   Package stopwords is already up-to-date!\n"
     ]
    }
   ],
   "source": [
    "# создание пайплайнов\n",
    "nltk.download('stopwords') \n",
    "pipe_lr = make_pipeline(TfidfVectorizer(stop_words=nltk_stopwords.words('english')), LogisticRegression())\n",
    "\n",
    "pipe_svc = make_pipeline(TfidfVectorizer(stop_words=nltk_stopwords.words('english')), LinearSVC(random_state=42))\n",
    "\n",
    "pipe_cb = make_pipeline(TfidfVectorizer(stop_words=nltk_stopwords.words('english')), CatBoostClassifier(random_seed=42,\n",
    "                                                                                                        verbose=False))"
   ]
  },
  {
   "cell_type": "markdown",
   "id": "e6901de1",
   "metadata": {},
   "source": [
    "### Линейная регрессия"
   ]
  },
  {
   "cell_type": "markdown",
   "id": "fd770038",
   "metadata": {},
   "source": [
    "Поиск оптимальных моделей будем производить с помощью кроссвалидационного поиска по сетке. Для этого воспользуемся классом `GridSearchCV` библиотеки `sklearn`. Параметр определяющий количество фолдов `cv` установим равным **4**.\n",
    "\n",
    "Первыми обучим модели *логистической регрессии*. В качестве неизменяемых параметров установим `class_weight='balanced'` и `solver='liblinear'`. Изменяемым параметром будет *сила обратной регуляризации* `C`. Установим пределы поиска параметра **от 1 до 19 с шагом 2**."
   ]
  },
  {
   "cell_type": "code",
   "execution_count": 17,
   "id": "a38be458",
   "metadata": {
    "scrolled": true
   },
   "outputs": [
    {
     "name": "stdout",
     "output_type": "stream",
     "text": [
      "Fitting 4 folds for each of 10 candidates, totalling 40 fits\n",
      "[CV] END logisticregression__C=1.0, logisticregression__class_weight=balanced, logisticregression__solver=liblinear; total time=   5.6s\n",
      "[CV] END logisticregression__C=1.0, logisticregression__class_weight=balanced, logisticregression__solver=liblinear; total time=   5.7s\n",
      "[CV] END logisticregression__C=1.0, logisticregression__class_weight=balanced, logisticregression__solver=liblinear; total time=   5.6s\n",
      "[CV] END logisticregression__C=1.0, logisticregression__class_weight=balanced, logisticregression__solver=liblinear; total time=   5.5s\n",
      "[CV] END logisticregression__C=3.0, logisticregression__class_weight=balanced, logisticregression__solver=liblinear; total time=   5.8s\n",
      "[CV] END logisticregression__C=3.0, logisticregression__class_weight=balanced, logisticregression__solver=liblinear; total time=   5.8s\n",
      "[CV] END logisticregression__C=3.0, logisticregression__class_weight=balanced, logisticregression__solver=liblinear; total time=   6.2s\n",
      "[CV] END logisticregression__C=3.0, logisticregression__class_weight=balanced, logisticregression__solver=liblinear; total time=   6.1s\n",
      "[CV] END logisticregression__C=5.0, logisticregression__class_weight=balanced, logisticregression__solver=liblinear; total time=   6.3s\n",
      "[CV] END logisticregression__C=5.0, logisticregression__class_weight=balanced, logisticregression__solver=liblinear; total time=   6.2s\n",
      "[CV] END logisticregression__C=5.0, logisticregression__class_weight=balanced, logisticregression__solver=liblinear; total time=   6.5s\n",
      "[CV] END logisticregression__C=5.0, logisticregression__class_weight=balanced, logisticregression__solver=liblinear; total time=   6.4s\n",
      "[CV] END logisticregression__C=7.0, logisticregression__class_weight=balanced, logisticregression__solver=liblinear; total time=   6.2s\n",
      "[CV] END logisticregression__C=7.0, logisticregression__class_weight=balanced, logisticregression__solver=liblinear; total time=   6.6s\n",
      "[CV] END logisticregression__C=7.0, logisticregression__class_weight=balanced, logisticregression__solver=liblinear; total time=   6.4s\n",
      "[CV] END logisticregression__C=7.0, logisticregression__class_weight=balanced, logisticregression__solver=liblinear; total time=   6.2s\n",
      "[CV] END logisticregression__C=9.0, logisticregression__class_weight=balanced, logisticregression__solver=liblinear; total time=   6.3s\n",
      "[CV] END logisticregression__C=9.0, logisticregression__class_weight=balanced, logisticregression__solver=liblinear; total time=   6.5s\n",
      "[CV] END logisticregression__C=9.0, logisticregression__class_weight=balanced, logisticregression__solver=liblinear; total time=   6.3s\n",
      "[CV] END logisticregression__C=9.0, logisticregression__class_weight=balanced, logisticregression__solver=liblinear; total time=   6.6s\n",
      "[CV] END logisticregression__C=11.0, logisticregression__class_weight=balanced, logisticregression__solver=liblinear; total time=   6.3s\n",
      "[CV] END logisticregression__C=11.0, logisticregression__class_weight=balanced, logisticregression__solver=liblinear; total time=   6.4s\n",
      "[CV] END logisticregression__C=11.0, logisticregression__class_weight=balanced, logisticregression__solver=liblinear; total time=   6.4s\n",
      "[CV] END logisticregression__C=11.0, logisticregression__class_weight=balanced, logisticregression__solver=liblinear; total time=   6.3s\n",
      "[CV] END logisticregression__C=13.0, logisticregression__class_weight=balanced, logisticregression__solver=liblinear; total time=   6.3s\n",
      "[CV] END logisticregression__C=13.0, logisticregression__class_weight=balanced, logisticregression__solver=liblinear; total time=   6.2s\n",
      "[CV] END logisticregression__C=13.0, logisticregression__class_weight=balanced, logisticregression__solver=liblinear; total time=   6.4s\n",
      "[CV] END logisticregression__C=13.0, logisticregression__class_weight=balanced, logisticregression__solver=liblinear; total time=   6.3s\n",
      "[CV] END logisticregression__C=15.0, logisticregression__class_weight=balanced, logisticregression__solver=liblinear; total time=   6.1s\n",
      "[CV] END logisticregression__C=15.0, logisticregression__class_weight=balanced, logisticregression__solver=liblinear; total time=   6.6s\n",
      "[CV] END logisticregression__C=15.0, logisticregression__class_weight=balanced, logisticregression__solver=liblinear; total time=   6.4s\n",
      "[CV] END logisticregression__C=15.0, logisticregression__class_weight=balanced, logisticregression__solver=liblinear; total time=   6.5s\n",
      "[CV] END logisticregression__C=17.0, logisticregression__class_weight=balanced, logisticregression__solver=liblinear; total time=   6.5s\n",
      "[CV] END logisticregression__C=17.0, logisticregression__class_weight=balanced, logisticregression__solver=liblinear; total time=   6.5s\n",
      "[CV] END logisticregression__C=17.0, logisticregression__class_weight=balanced, logisticregression__solver=liblinear; total time=   6.8s\n",
      "[CV] END logisticregression__C=17.0, logisticregression__class_weight=balanced, logisticregression__solver=liblinear; total time=   6.6s\n",
      "[CV] END logisticregression__C=19.0, logisticregression__class_weight=balanced, logisticregression__solver=liblinear; total time=   6.7s\n",
      "[CV] END logisticregression__C=19.0, logisticregression__class_weight=balanced, logisticregression__solver=liblinear; total time=   6.6s\n",
      "[CV] END logisticregression__C=19.0, logisticregression__class_weight=balanced, logisticregression__solver=liblinear; total time=   6.7s\n",
      "[CV] END logisticregression__C=19.0, logisticregression__class_weight=balanced, logisticregression__solver=liblinear; total time=   6.8s\n",
      "CPU times: total: 12min 13s\n",
      "Wall time: 4min 23s\n"
     ]
    },
    {
     "data": {
      "text/plain": [
       "GridSearchCV(cv=4,\n",
       "             estimator=Pipeline(steps=[('tfidfvectorizer',\n",
       "                                        TfidfVectorizer(stop_words=['i', 'me',\n",
       "                                                                    'my',\n",
       "                                                                    'myself',\n",
       "                                                                    'we', 'our',\n",
       "                                                                    'ours',\n",
       "                                                                    'ourselves',\n",
       "                                                                    'you',\n",
       "                                                                    \"you're\",\n",
       "                                                                    \"you've\",\n",
       "                                                                    \"you'll\",\n",
       "                                                                    \"you'd\",\n",
       "                                                                    'your',\n",
       "                                                                    'yours',\n",
       "                                                                    'yourself',\n",
       "                                                                    'yourselves',\n",
       "                                                                    'he', 'him',\n",
       "                                                                    'his',\n",
       "                                                                    'himself',\n",
       "                                                                    'she',\n",
       "                                                                    \"she's\",\n",
       "                                                                    'her',\n",
       "                                                                    'hers',\n",
       "                                                                    'herself',\n",
       "                                                                    'it',\n",
       "                                                                    \"it's\",\n",
       "                                                                    'its',\n",
       "                                                                    'itself', ...])),\n",
       "                                       ('logisticregression',\n",
       "                                        LogisticRegression())]),\n",
       "             param_grid={'logisticregression__C': array([ 1.,  3.,  5.,  7.,  9., 11., 13., 15., 17., 19.]),\n",
       "                         'logisticregression__class_weight': ['balanced'],\n",
       "                         'logisticregression__solver': ['liblinear']},\n",
       "             scoring='f1', verbose=2)"
      ]
     },
     "execution_count": 17,
     "metadata": {},
     "output_type": "execute_result"
    }
   ],
   "source": [
    "%%time\n",
    "# обучение моделей логистической регрессии\n",
    "С_array = np.linspace(1, 19, 10)\n",
    "param_grid = {'logisticregression__class_weight': ['balanced'], 'logisticregression__solver': ['liblinear'], \n",
    "              'logisticregression__C': С_array}\n",
    "\n",
    "logistic_regression = GridSearchCV(pipe_lr, param_grid, scoring='f1', cv=4, verbose=2)\n",
    "logistic_regression.fit(train_features, train_target)"
   ]
  },
  {
   "cell_type": "markdown",
   "id": "8f08258c",
   "metadata": {},
   "source": [
    "### Машина опорных векторов"
   ]
  },
  {
   "cell_type": "markdown",
   "id": "cf21bb01",
   "metadata": {},
   "source": [
    "Далее обучим *машины опорных векторов* с линейными ядрами. Это оптимальный выбор при работе с большим количеством данных и признаков. В качестве изменяемого параметра также выберем *силу обратной регуляризации* `C`. Установим пределы поиска параметра **от 0.1 до 1.9 с шагом 0.2**."
   ]
  },
  {
   "cell_type": "code",
   "execution_count": 18,
   "id": "6be411e6",
   "metadata": {
    "scrolled": true
   },
   "outputs": [
    {
     "name": "stdout",
     "output_type": "stream",
     "text": [
      "Fitting 4 folds for each of 10 candidates, totalling 40 fits\n",
      "[CV] END ...................................linearsvc__C=0.1; total time=   5.1s\n",
      "[CV] END ...................................linearsvc__C=0.1; total time=   5.1s\n",
      "[CV] END ...................................linearsvc__C=0.1; total time=   4.8s\n",
      "[CV] END ...................................linearsvc__C=0.1; total time=   4.9s\n",
      "[CV] END ...................................linearsvc__C=0.3; total time=   4.8s\n",
      "[CV] END ...................................linearsvc__C=0.3; total time=   5.0s\n",
      "[CV] END ...................................linearsvc__C=0.3; total time=   4.9s\n",
      "[CV] END ...................................linearsvc__C=0.3; total time=   4.9s\n",
      "[CV] END ...................................linearsvc__C=0.5; total time=   5.0s\n",
      "[CV] END ...................................linearsvc__C=0.5; total time=   5.0s\n",
      "[CV] END ...................................linearsvc__C=0.5; total time=   5.0s\n",
      "[CV] END ...................................linearsvc__C=0.5; total time=   5.1s\n",
      "[CV] END ...................................linearsvc__C=0.7; total time=   5.0s\n",
      "[CV] END ...................................linearsvc__C=0.7; total time=   4.9s\n",
      "[CV] END ...................................linearsvc__C=0.7; total time=   5.0s\n",
      "[CV] END ...................................linearsvc__C=0.7; total time=   4.9s\n",
      "[CV] END ....................linearsvc__C=0.8999999999999999; total time=   4.8s\n",
      "[CV] END ....................linearsvc__C=0.8999999999999999; total time=   5.3s\n",
      "[CV] END ....................linearsvc__C=0.8999999999999999; total time=   4.9s\n",
      "[CV] END ....................linearsvc__C=0.8999999999999999; total time=   5.0s\n",
      "[CV] END ....................linearsvc__C=1.0999999999999999; total time=   5.2s\n",
      "[CV] END ....................linearsvc__C=1.0999999999999999; total time=   5.2s\n",
      "[CV] END ....................linearsvc__C=1.0999999999999999; total time=   5.1s\n",
      "[CV] END ....................linearsvc__C=1.0999999999999999; total time=   4.9s\n",
      "[CV] END ...................................linearsvc__C=1.3; total time=   5.1s\n",
      "[CV] END ...................................linearsvc__C=1.3; total time=   5.1s\n",
      "[CV] END ...................................linearsvc__C=1.3; total time=   5.2s\n",
      "[CV] END ...................................linearsvc__C=1.3; total time=   5.1s\n",
      "[CV] END ...................................linearsvc__C=1.5; total time=   5.9s\n",
      "[CV] END ...................................linearsvc__C=1.5; total time=   5.5s\n",
      "[CV] END ...................................linearsvc__C=1.5; total time=   5.3s\n",
      "[CV] END ...................................linearsvc__C=1.5; total time=   5.2s\n",
      "[CV] END ...................................linearsvc__C=1.7; total time=   5.4s\n",
      "[CV] END ...................................linearsvc__C=1.7; total time=   5.4s\n",
      "[CV] END ...................................linearsvc__C=1.7; total time=   5.5s\n",
      "[CV] END ...................................linearsvc__C=1.7; total time=   5.3s\n",
      "[CV] END ...................................linearsvc__C=1.9; total time=   5.4s\n",
      "[CV] END ...................................linearsvc__C=1.9; total time=   5.5s\n",
      "[CV] END ...................................linearsvc__C=1.9; total time=   5.5s\n",
      "[CV] END ...................................linearsvc__C=1.9; total time=   5.3s\n",
      "CPU times: total: 3min 30s\n",
      "Wall time: 3min 35s\n"
     ]
    },
    {
     "data": {
      "text/plain": [
       "GridSearchCV(cv=4,\n",
       "             estimator=Pipeline(steps=[('tfidfvectorizer',\n",
       "                                        TfidfVectorizer(stop_words=['i', 'me',\n",
       "                                                                    'my',\n",
       "                                                                    'myself',\n",
       "                                                                    'we', 'our',\n",
       "                                                                    'ours',\n",
       "                                                                    'ourselves',\n",
       "                                                                    'you',\n",
       "                                                                    \"you're\",\n",
       "                                                                    \"you've\",\n",
       "                                                                    \"you'll\",\n",
       "                                                                    \"you'd\",\n",
       "                                                                    'your',\n",
       "                                                                    'yours',\n",
       "                                                                    'yourself',\n",
       "                                                                    'yourselves',\n",
       "                                                                    'he', 'him',\n",
       "                                                                    'his',\n",
       "                                                                    'himself',\n",
       "                                                                    'she',\n",
       "                                                                    \"she's\",\n",
       "                                                                    'her',\n",
       "                                                                    'hers',\n",
       "                                                                    'herself',\n",
       "                                                                    'it',\n",
       "                                                                    \"it's\",\n",
       "                                                                    'its',\n",
       "                                                                    'itself', ...])),\n",
       "                                       ('linearsvc',\n",
       "                                        LinearSVC(random_state=42))]),\n",
       "             param_grid={'linearsvc__C': array([0.1, 0.3, 0.5, 0.7, 0.9, 1.1, 1.3, 1.5, 1.7, 1.9])},\n",
       "             scoring='f1', verbose=2)"
      ]
     },
     "execution_count": 18,
     "metadata": {},
     "output_type": "execute_result"
    }
   ],
   "source": [
    "%%time\n",
    "# обучение машин опорных векторов\n",
    "С_array = np.linspace(0.1, 1.9, 10)\n",
    "param_grid = {'linearsvc__C': С_array}\n",
    "\n",
    "svc = GridSearchCV(pipe_svc, param_grid, scoring='f1', cv=4, verbose=2)\n",
    "svc.fit(train_features, train_target)"
   ]
  },
  {
   "cell_type": "markdown",
   "id": "ebf89757",
   "metadata": {},
   "source": [
    "### Градиентный бустинг"
   ]
  },
  {
   "cell_type": "markdown",
   "id": "436497b3",
   "metadata": {},
   "source": [
    "Обучение *градиентным бустингом* времязатратно. Поэтому в качестве изменяемого параметра выберем только *глубину деревьев* `depth`: **2, 3 и 4**. Количество *итераций* установим равным `iterations = 1000`. Так как мы строим модели бинарной классификации, в качестве *функции потерь* `loss_function` выберем `Logloss`."
   ]
  },
  {
   "cell_type": "code",
   "execution_count": 19,
   "id": "1271029a",
   "metadata": {
    "scrolled": true
   },
   "outputs": [
    {
     "name": "stdout",
     "output_type": "stream",
     "text": [
      "Fitting 4 folds for each of 3 candidates, totalling 12 fits\n",
      "[CV] END catboostclassifier__depth=2, catboostclassifier__iterations=1000, catboostclassifier__loss_function=Logloss; total time= 2.4min\n",
      "[CV] END catboostclassifier__depth=2, catboostclassifier__iterations=1000, catboostclassifier__loss_function=Logloss; total time= 2.4min\n",
      "[CV] END catboostclassifier__depth=2, catboostclassifier__iterations=1000, catboostclassifier__loss_function=Logloss; total time= 2.4min\n",
      "[CV] END catboostclassifier__depth=2, catboostclassifier__iterations=1000, catboostclassifier__loss_function=Logloss; total time= 2.5min\n",
      "[CV] END catboostclassifier__depth=3, catboostclassifier__iterations=1000, catboostclassifier__loss_function=Logloss; total time= 3.6min\n",
      "[CV] END catboostclassifier__depth=3, catboostclassifier__iterations=1000, catboostclassifier__loss_function=Logloss; total time= 3.6min\n",
      "[CV] END catboostclassifier__depth=3, catboostclassifier__iterations=1000, catboostclassifier__loss_function=Logloss; total time= 3.6min\n",
      "[CV] END catboostclassifier__depth=3, catboostclassifier__iterations=1000, catboostclassifier__loss_function=Logloss; total time= 3.5min\n",
      "[CV] END catboostclassifier__depth=4, catboostclassifier__iterations=1000, catboostclassifier__loss_function=Logloss; total time= 4.8min\n",
      "[CV] END catboostclassifier__depth=4, catboostclassifier__iterations=1000, catboostclassifier__loss_function=Logloss; total time= 5.0min\n",
      "[CV] END catboostclassifier__depth=4, catboostclassifier__iterations=1000, catboostclassifier__loss_function=Logloss; total time= 5.1min\n",
      "[CV] END catboostclassifier__depth=4, catboostclassifier__iterations=1000, catboostclassifier__loss_function=Logloss; total time= 5.0min\n",
      "CPU times: total: 3h 51min 34s\n",
      "Wall time: 50min 17s\n"
     ]
    },
    {
     "data": {
      "text/plain": [
       "GridSearchCV(cv=4,\n",
       "             estimator=Pipeline(steps=[('tfidfvectorizer',\n",
       "                                        TfidfVectorizer(stop_words=['i', 'me',\n",
       "                                                                    'my',\n",
       "                                                                    'myself',\n",
       "                                                                    'we', 'our',\n",
       "                                                                    'ours',\n",
       "                                                                    'ourselves',\n",
       "                                                                    'you',\n",
       "                                                                    \"you're\",\n",
       "                                                                    \"you've\",\n",
       "                                                                    \"you'll\",\n",
       "                                                                    \"you'd\",\n",
       "                                                                    'your',\n",
       "                                                                    'yours',\n",
       "                                                                    'yourself',\n",
       "                                                                    'yourselves',\n",
       "                                                                    'he', 'him',\n",
       "                                                                    'his',\n",
       "                                                                    'himself',\n",
       "                                                                    'she',\n",
       "                                                                    \"she's\",\n",
       "                                                                    'her',\n",
       "                                                                    'hers',\n",
       "                                                                    'herself',\n",
       "                                                                    'it',\n",
       "                                                                    \"it's\",\n",
       "                                                                    'its',\n",
       "                                                                    'itself', ...])),\n",
       "                                       ('catboostclassifier',\n",
       "                                        <catboost.core.CatBoostClassifier object at 0x0000027832EBE700>)]),\n",
       "             param_grid={'catboostclassifier__depth': [2, 3, 4],\n",
       "                         'catboostclassifier__iterations': [1000],\n",
       "                         'catboostclassifier__loss_function': ['Logloss']},\n",
       "             scoring='f1', verbose=2)"
      ]
     },
     "execution_count": 19,
     "metadata": {},
     "output_type": "execute_result"
    }
   ],
   "source": [
    "%%time\n",
    "# обучение градиентным бустингом\n",
    "depth = [2, 3, 4]\n",
    "\n",
    "param_grid = {'catboostclassifier__iterations': [1000], 'catboostclassifier__loss_function': ['Logloss'], \n",
    "              'catboostclassifier__depth': depth}\n",
    "\n",
    "gradient_boosting = GridSearchCV(pipe_cb, param_grid, scoring='f1', cv=4, verbose=2)\n",
    "gradient_boosting.fit(train_features, train_target)"
   ]
  },
  {
   "cell_type": "markdown",
   "id": "9dc38be9",
   "metadata": {},
   "source": [
    "## Выбор и тестирование лучшей модели"
   ]
  },
  {
   "cell_type": "markdown",
   "id": "a0d90539",
   "metadata": {},
   "source": [
    "### Сравнение моделей"
   ]
  },
  {
   "cell_type": "markdown",
   "id": "9c76a8e5",
   "metadata": {},
   "source": [
    "Представим итоговые результаты обучения моделей в виде сводной таблицы. Выведем наилучшие значения *F1-меры* для модели каждого типа и подобранные для них параметры: *силу обратной регуляризации* `C` и *глубину деревьев* `depth`. "
   ]
  },
  {
   "cell_type": "code",
   "execution_count": 20,
   "id": "a1f89866",
   "metadata": {},
   "outputs": [
    {
     "data": {
      "text/html": [
       "<div>\n",
       "<style scoped>\n",
       "    .dataframe tbody tr th:only-of-type {\n",
       "        vertical-align: middle;\n",
       "    }\n",
       "\n",
       "    .dataframe tbody tr th {\n",
       "        vertical-align: top;\n",
       "    }\n",
       "\n",
       "    .dataframe thead th {\n",
       "        text-align: right;\n",
       "    }\n",
       "</style>\n",
       "<table border=\"1\" class=\"dataframe\">\n",
       "  <thead>\n",
       "    <tr style=\"text-align: right;\">\n",
       "      <th></th>\n",
       "      <th>F1</th>\n",
       "      <th>C</th>\n",
       "      <th>max_depth</th>\n",
       "    </tr>\n",
       "    <tr>\n",
       "      <th>model</th>\n",
       "      <th></th>\n",
       "      <th></th>\n",
       "      <th></th>\n",
       "    </tr>\n",
       "  </thead>\n",
       "  <tbody>\n",
       "    <tr>\n",
       "      <th>Logistic regression</th>\n",
       "      <td>0.765071</td>\n",
       "      <td>9.0</td>\n",
       "      <td>-</td>\n",
       "    </tr>\n",
       "    <tr>\n",
       "      <th>Support vector machines</th>\n",
       "      <td>0.778851</td>\n",
       "      <td>0.9</td>\n",
       "      <td>-</td>\n",
       "    </tr>\n",
       "    <tr>\n",
       "      <th>Gradient boosting</th>\n",
       "      <td>0.742175</td>\n",
       "      <td>-</td>\n",
       "      <td>4</td>\n",
       "    </tr>\n",
       "  </tbody>\n",
       "</table>\n",
       "</div>"
      ],
      "text/plain": [
       "                               F1    C max_depth\n",
       "model                                           \n",
       "Logistic regression      0.765071  9.0         -\n",
       "Support vector machines  0.778851  0.9         -\n",
       "Gradient boosting        0.742175    -         4"
      ]
     },
     "execution_count": 20,
     "metadata": {},
     "output_type": "execute_result"
    }
   ],
   "source": [
    "# вывод сводной таблицы\n",
    "f1_array = [logistic_regression.best_score_, svc.best_score_, gradient_boosting.best_score_]\n",
    "\n",
    "max_depth_array = ['-', '-', gradient_boosting.best_params_['catboostclassifier__depth']]\n",
    "\n",
    "C_array = [logistic_regression.best_params_['logisticregression__C'], svc.best_params_['linearsvc__C'], '-']\n",
    "\n",
    "table = {'F1': f1_array, 'C': C_array, 'max_depth': max_depth_array}\n",
    "\n",
    "df_table = pd.DataFrame(data=table, index=['Logistic regression', 'Support vector machines', 'Gradient boosting'])\n",
    "\n",
    "df_table.index.name = 'model'\n",
    "\n",
    "df_table"
   ]
  },
  {
   "cell_type": "markdown",
   "id": "025b522a",
   "metadata": {},
   "source": [
    "Как мы видим, линейные модели показали более высокие результаты, чем ансабмль *решающих деревьев*, обученный *градиентным бустингом*. *Машина опорных векторов* достигла *F1-меры* равной **0.78**, модель *логистической регрессии* — **0.77**, модель *градиентного бустинга* показала *F1-меру* равную **0.74**. Причина такого результата может скрываться в том, что для модели *градиентного бустинга* был выбран небольшой диапазон поиска для *глубин деревьев* `depth`, к тому же мы не регулировали *темп обучения*. Так или иначе с небольшим отрывом победила *машина опорных векторов* с *силой обратной регуляризации* `C` равной **0.9**."
   ]
  },
  {
   "cell_type": "markdown",
   "id": "0c13a143",
   "metadata": {},
   "source": [
    "### Тестирование выбранной модели"
   ]
  },
  {
   "cell_type": "markdown",
   "id": "1eab1c73",
   "metadata": {},
   "source": [
    "Протестируем выбранную модель. Выведем значение *F1-меры* на *тестовой выборке*. Визуализируем результат с помощью *матрицы ошибок*."
   ]
  },
  {
   "cell_type": "code",
   "execution_count": 21,
   "id": "30580ba3",
   "metadata": {},
   "outputs": [
    {
     "data": {
      "text/html": [
       "<div>\n",
       "<style scoped>\n",
       "    .dataframe tbody tr th:only-of-type {\n",
       "        vertical-align: middle;\n",
       "    }\n",
       "\n",
       "    .dataframe tbody tr th {\n",
       "        vertical-align: top;\n",
       "    }\n",
       "\n",
       "    .dataframe thead th {\n",
       "        text-align: right;\n",
       "    }\n",
       "</style>\n",
       "<table border=\"1\" class=\"dataframe\">\n",
       "  <thead>\n",
       "    <tr style=\"text-align: right;\">\n",
       "      <th></th>\n",
       "      <th>F1</th>\n",
       "    </tr>\n",
       "    <tr>\n",
       "      <th>model</th>\n",
       "      <th></th>\n",
       "    </tr>\n",
       "  </thead>\n",
       "  <tbody>\n",
       "    <tr>\n",
       "      <th>Support vector machines</th>\n",
       "      <td>0.793519</td>\n",
       "    </tr>\n",
       "  </tbody>\n",
       "</table>\n",
       "</div>"
      ],
      "text/plain": [
       "                               F1\n",
       "model                            \n",
       "Support vector machines  0.793519"
      ]
     },
     "execution_count": 21,
     "metadata": {},
     "output_type": "execute_result"
    }
   ],
   "source": [
    "# вывод F1-меры для машины опорных векторов\n",
    "df_table = pd.DataFrame(data={'F1': f1_score(test_target, svc.predict(test_features))}, index=['Support vector machines'])\n",
    "\n",
    "df_table.index.name = 'model'\n",
    "\n",
    "df_table"
   ]
  },
  {
   "cell_type": "code",
   "execution_count": 22,
   "id": "15c1a156",
   "metadata": {},
   "outputs": [
    {
     "data": {
      "text/plain": [
       "<AxesSubplot:title={'center':'Матрица ошибок'}>"
      ]
     },
     "execution_count": 22,
     "metadata": {},
     "output_type": "execute_result"
    },
    {
     "data": {
      "image/png": "[encoded data removed]",
      "text/plain": [
       "<Figure size 360x288 with 2 Axes>"
      ]
     },
     "metadata": {
      "needs_background": "light"
     },
     "output_type": "display_data"
    }
   ],
   "source": [
    "# вывод матрицы ошибок\n",
    "fig, ax = plt.subplots(figsize=(5, 4))\n",
    "\n",
    "predictions = svc.predict(test_features)\n",
    "\n",
    "cm = confusion_matrix(test_target, predictions, normalize='all')\n",
    "\n",
    "ax.set_title('Матрица ошибок', fontsize='large', y=1.05)\n",
    "sns.heatmap(cm, annot=True, cmap='coolwarm', ax=ax)"
   ]
  },
  {
   "cell_type": "markdown",
   "id": "a635fab2",
   "metadata": {},
   "source": [
    "Итоговая метрика для *машины опорных векторов* на *тестовой выборке* оказалось равной **0.79**. Как мы видим, наибольшее количество ошибок приходится на случаи, когда модель пропускает негативные комментарии, не отправляя их на модерацию. Процент таких предсказаний равен **2.9%**. Учитывая, что примерно **10%** *тестовой выборки* приходится на токсичные комментарии, **29%** из них не попадут на модерацию."
   ]
  },
  {
   "cell_type": "markdown",
   "id": "0eed3236",
   "metadata": {},
   "source": [
    "## Выводы"
   ]
  },
  {
   "cell_type": "markdown",
   "id": "64acc520",
   "metadata": {},
   "source": [
    "Таким образом, мы рассмотрели и подготовили данные, обнаружив при этом дисбаланс классов. Также лемматизировали тексты и векторизировали их с помощью величины *TF-IDF*.\n",
    "\n",
    "Обучили три вида моделей: модель *логистической регрессии*, *машину опорных векторов* с линейным ядром и ансамбль решающих деревьев, обученных *градиентным бустингом*. У первых двух видов моделей мы меняли *силу обратной регуляризации* `C`, а у ансамблей деревьев — их *глубину* `depth`. Сравнили результаты обучения между собой. Самую высоую *F1-меру* на *обучающей выборке* показала *машина опорных векторов* — **0.78**, модель *логистической регрессии* и модель *градиентного бустинга* показали **0.77** и **0.74** соответственно.\n",
    "\n",
    "В качестве финальной модели была выбрана *машина опопрных векторов*. На *тестовой выборке* она показала *F1-меру* равную **0.79**. Как оказалось наибольшее количество ошибок приходится на случаи, когда модель пропускает негативные комментарии, не отправляя их на модерацию. Процент таких предсказаний равен **2.9%**. С учетом того, что на токсичные комментарии приходится примерно **10%** *тестовой выборки*, **29%** из них в таком случае не попадут на модерацию."
   ]
  },
  {
   "cell_type": "code",
   "execution_count": null,
   "id": "5410ea80",
   "metadata": {},
   "outputs": [],
   "source": []
  }
 ],
 "metadata": {
  "ExecuteTimeLog": [
   {
    "duration": 4838,
    "start_time": "2023-01-30T13:15:01.103Z"
   },
   {
    "duration": 413,
    "start_time": "2023-01-30T13:15:05.946Z"
   },
   {
    "duration": 0,
    "start_time": "2023-01-30T13:15:06.362Z"
   },
   {
    "duration": 0,
    "start_time": "2023-01-30T13:15:06.363Z"
   },
   {
    "duration": 0,
    "start_time": "2023-01-30T13:15:06.364Z"
   },
   {
    "duration": 0,
    "start_time": "2023-01-30T13:15:06.365Z"
   },
   {
    "duration": 0,
    "start_time": "2023-01-30T13:15:06.366Z"
   },
   {
    "duration": 0,
    "start_time": "2023-01-30T13:15:06.368Z"
   },
   {
    "duration": 0,
    "start_time": "2023-01-30T13:15:06.369Z"
   },
   {
    "duration": 0,
    "start_time": "2023-01-30T13:15:06.370Z"
   },
   {
    "duration": 0,
    "start_time": "2023-01-30T13:15:06.371Z"
   },
   {
    "duration": 0,
    "start_time": "2023-01-30T13:15:06.372Z"
   },
   {
    "duration": 0,
    "start_time": "2023-01-30T13:15:06.379Z"
   },
   {
    "duration": 0,
    "start_time": "2023-01-30T13:15:06.380Z"
   },
   {
    "duration": 0,
    "start_time": "2023-01-30T13:15:06.381Z"
   },
   {
    "duration": 0,
    "start_time": "2023-01-30T13:15:06.383Z"
   },
   {
    "duration": 0,
    "start_time": "2023-01-30T13:15:06.385Z"
   },
   {
    "duration": 0,
    "start_time": "2023-01-30T13:15:06.386Z"
   },
   {
    "duration": 0,
    "start_time": "2023-01-30T13:15:06.388Z"
   },
   {
    "duration": 0,
    "start_time": "2023-01-30T13:15:06.389Z"
   },
   {
    "duration": 0,
    "start_time": "2023-01-30T13:15:06.391Z"
   },
   {
    "duration": 0,
    "start_time": "2023-01-30T13:15:06.392Z"
   },
   {
    "duration": 0,
    "start_time": "2023-01-30T13:15:06.395Z"
   },
   {
    "duration": 0,
    "start_time": "2023-01-30T13:15:06.397Z"
   }
  ],
  "kernelspec": {
   "display_name": "Python 3 (ipykernel)",
   "language": "python",
   "name": "python3"
  },
  "language_info": {
   "codemirror_mode": {
    "name": "ipython",
    "version": 3
   },
   "file_extension": ".py",
   "mimetype": "text/x-python",
   "name": "python",
   "nbconvert_exporter": "python",
   "pygments_lexer": "ipython3",
   "version": "3.9.12"
  },
  "toc": {
   "base_numbering": 1,
   "nav_menu": {},
   "number_sections": true,
   "sideBar": true,
   "skip_h1_title": true,
   "title_cell": "Table of Contents",
   "title_sidebar": "Contents",
   "toc_cell": false,
   "toc_position": {
    "height": "calc(100% - 180px)",
    "left": "10px",
    "top": "150px",
    "width": "303.8px"
   },
   "toc_section_display": true,
   "toc_window_display": false
  }
 },
 "nbformat": 4,
 "nbformat_minor": 5
}
